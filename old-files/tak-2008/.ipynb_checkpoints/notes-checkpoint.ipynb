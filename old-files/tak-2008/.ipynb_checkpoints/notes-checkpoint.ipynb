{
 "cells": [
  {
   "cell_type": "code",
   "execution_count": 1,
   "metadata": {},
   "outputs": [],
   "source": [
    "import numpy as np\n",
    "import matplotlib.pyplot as plt"
   ]
  },
  {
   "cell_type": "markdown",
   "metadata": {},
   "source": [
    "# Validation: unit-cell: Tak et al 2008\n",
    "\n",
    "This study was not conducted in the end.\n",
    "The geometry includes the graphite plugs in the fuel columns and I was lazy to build that geometry.\n",
    "However, the values calculated here will serve the fuel block validation analysis (maybe).\n",
    "\n",
    "Ref:\n",
    "\n",
    "[1] Tak et al. Numerical investigation of a heat transfer within the prismatic fuel assembly of a very high temperature reactor. 2008.\n",
    "\n",
    "[2] Kang et al. Thermo-mechanical analysis of the prismatic fuel assembly of VHTR in normal operational condition. 2012."
   ]
  },
  {
   "cell_type": "code",
   "execution_count": 2,
   "metadata": {},
   "outputs": [
    {
     "name": "stdout",
     "output_type": "stream",
     "text": [
      "v:  2219.3598317256706 cm/s\n"
     ]
    }
   ],
   "source": [
    "# Geometry\n",
    "rf = 1.27/2  # cm\n",
    "rc = 1.588/2  # cm\n",
    "p = 1.88  # cm\n",
    "rg = 0.01  # cm\n",
    "Lf = 79.3  # cm\n",
    "L = 793  # cm\n",
    "\n",
    "# graphite plugs ?\n",
    "Lgp = 2.675  # cm [2]\n",
    "\n",
    "# flow\n",
    "rho = 4.368  # [kg/m3] 7 MPa, 490 C\n",
    "rho /= 1e6   # [kg/cm3]\n",
    "\n",
    "cp = 5.188  # [J/g/K] 7 MPa, 490 C [2]\n",
    "cp *= 1e3  # [J/kg/K]\n",
    "\n",
    "rc = 1.588/2  # cm\n",
    "mlc = 0.0192  # kg/s # not sure where this value came from\n",
    "v = mlc/rho/np.pi/rc**2\n",
    "print('v: ', v, 'cm/s')"
   ]
  },
  {
   "cell_type": "code",
   "execution_count": 3,
   "metadata": {},
   "outputs": [
    {
     "name": "stdout",
     "output_type": "stream",
     "text": [
      "kgc:  [0.0017969  0.00284239]\n"
     ]
    }
   ],
   "source": [
    "# Material properties\n",
    "\n",
    "# Fuel\n",
    "# T = 400, 1390\n",
    "kf = np.array([6., 9.])  # [W/m/K]\n",
    "kf *= 1e-2  # [W/cm/K]\n",
    "\n",
    "# Gap\n",
    "# T = 400, 1200\n",
    "kg = 1e-2*np.array([27.7, 47.6])  # [W/m/K]\n",
    "kg *= 1e-2  # [W/cm/K]\n",
    "\n",
    "# Graphite\n",
    "# T = 400, 1390\n",
    "km = np.array([26., 38.])  # [W/m/K]\n",
    "km *= 1e-2 # [W/cm/K]\n",
    "\n",
    "# Film\n",
    "rho = 4.368  # [kg/m3] 7 MPa, 490 C\n",
    "cp = 5.188  # [J/g/K] 7 MPa, 490 C [2]\n",
    "cp *= 1e3  # [J/kg/K]\n",
    "mu = 38.23e-6  # Pa.s 7 MPa 490 C\n",
    "v = 2219.36  # cm/s\n",
    "v /= 100  # m/s\n",
    "rc = 1.588/2  # cm\n",
    "D = 2 * rc / 100  # m\n",
    "Re = rho * v * D / mu\n",
    "# print('Re: ', Re)\n",
    "\n",
    "# T = 490, 1200\n",
    "mu = 1e-6*np.array([38.23, 60.8])  # Pa.s\n",
    "kg = 1e-2*np.array([30.2, 47.6])  # [W/m/K]\n",
    "Pr = mu * cp/kg\n",
    "# print('Pr: ', Pr)\n",
    "\n",
    "Nu = 0.023*(Re**0.8)*(Pr**0.4)\n",
    "# print('Nu: ', Nu)\n",
    "h = Nu/D * kg  # W/m^2/K\n",
    "# print('h: ', h)\n",
    "\n",
    "rc = 1.588/2  # cm\n",
    "dr = 0.01  # cm\n",
    "\n",
    "h /= 1e4  # W/cm^2/K\n",
    "kgc = h * (rc + dr) * np.log(1 + dr/rc)\n",
    "print('kgc: ', kgc)  # W/cm/C"
   ]
  },
  {
   "cell_type": "code",
   "execution_count": 4,
   "metadata": {},
   "outputs": [],
   "source": [
    "# heat generation\n",
    "q = 31.1  # W/cm3"
   ]
  }
 ],
 "metadata": {
  "kernelspec": {
   "display_name": "Python 3",
   "language": "python",
   "name": "python3"
  },
  "language_info": {
   "codemirror_mode": {
    "name": "ipython",
    "version": 3
   },
   "file_extension": ".py",
   "mimetype": "text/x-python",
   "name": "python",
   "nbconvert_exporter": "python",
   "pygments_lexer": "ipython3",
   "version": "3.8.3"
  }
 },
 "nbformat": 4,
 "nbformat_minor": 4
}
