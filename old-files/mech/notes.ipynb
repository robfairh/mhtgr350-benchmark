{
 "cells": [
  {
   "cell_type": "code",
   "execution_count": 12,
   "metadata": {},
   "outputs": [],
   "source": [
    "import numpy as np\n",
    "import matplotlib.pyplot as plt"
   ]
  },
  {
   "cell_type": "markdown",
   "metadata": {},
   "source": [
    "## References:\n",
    "\n",
    "[1] Lejeail and Cabrillat. CALCULATION OF THERMAL STRESSES IN GRAPHITE FUEL BLOCKS. 2005.\n",
    "\n",
    "z = 0"
   ]
  },
  {
   "cell_type": "code",
   "execution_count": 50,
   "metadata": {},
   "outputs": [
    {
     "name": "stdout",
     "output_type": "stream",
     "text": [
      "51.545531887238795\n",
      "755.0\n"
     ]
    }
   ],
   "source": [
    "L = 800  # cm\n",
    "# z = 2*L/5\n",
    "z = 0\n",
    "\n",
    "qmean = 6.55/0.265  # W/cm3\n",
    "Ka = 1/1.352\n",
    "Ka = np.sin(wa)/wa\n",
    "Kr = 1.5\n",
    "# q0 = qmean/Ka*Kr\n",
    "q0 = qmean/Ka*Kr*216/210\n",
    "wa = 0.83*np.pi/2\n",
    "q = q0 * np.cos(2*wa/L*z)\n",
    "print(q)  # w/cm3\n",
    "\n",
    "Tin = 480\n",
    "Tout = 1030\n",
    "Tc = Tin+(Tout-Tin)/2*(np.sin(2*wa*z/L)/np.sin(wa)+1)\n",
    "print(Tc)  # C"
   ]
  },
  {
   "cell_type": "code",
   "execution_count": null,
   "metadata": {},
   "outputs": [],
   "source": []
  },
  {
   "cell_type": "code",
   "execution_count": 26,
   "metadata": {},
   "outputs": [
    {
     "name": "stdout",
     "output_type": "stream",
     "text": [
      "[1.3232 1.0733 0.8822 0.7499 0.6764 0.6617]\n"
     ]
    },
    {
     "data": {
      "text/plain": [
       "Text(0.5, 0, 'Temperature [$^\\\\circ$C]')"
      ]
     },
     "execution_count": 26,
     "metadata": {},
     "output_type": "execute_result"
    },
    {
     "data": {
      "image/png": "[encoded data removed]",
      "text/plain": [
       "<Figure size 432x288 with 1 Axes>"
      ]
     },
     "metadata": {
      "needs_background": "light"
     },
     "output_type": "display_data"
    }
   ],
   "source": [
    "# Material properties: values for fuel don't matter\n",
    "k0 = 35  # W/m/C\n",
    "beta0 = 3.66257\n",
    "beta1 = -4.83e-3\n",
    "beta2 = 2.10e-6\n",
    "T = np.array([200, 400, 600, 800, 1000, 1200])\n",
    "beta = beta0 + beta1*T + beta2*T**2\n",
    "k1 = k0*(1+beta*np.exp(-4e-21*0))\n",
    "k2 = k0*(1+beta*np.exp(-4e-21*2e20))\n",
    "k3 = k0*(1+beta*np.exp(-4e-21*3e20))\n",
    "k4 = k0*(1+beta*np.exp(-4e-21*4e21))\n",
    "\n",
    "print(np.round(k1/100, 4))\n",
    "plt.plot(T, k1, label='0')\n",
    "plt.plot(T, k2, label=r'$2 \\times 10^{20}$')\n",
    "plt.plot(T, k3, label=r'$3 \\times 10^{20}$')\n",
    "plt.plot(T, k4, label=r'$4 \\times 10^{21}$')\n",
    "plt.legend(loc='upper right')\n",
    "plt.ylabel('Thermal conductivity [W/m/C]')\n",
    "plt.xlabel('Temperature [$^\\circ$C]')"
   ]
  },
  {
   "cell_type": "code",
   "execution_count": null,
   "metadata": {},
   "outputs": [],
   "source": []
  }
 ],
 "metadata": {
  "kernelspec": {
   "display_name": "Python 3",
   "language": "python",
   "name": "python3"
  },
  "language_info": {
   "codemirror_mode": {
    "name": "ipython",
    "version": 3
   },
   "file_extension": ".py",
   "mimetype": "text/x-python",
   "name": "python",
   "nbconvert_exporter": "python",
   "pygments_lexer": "ipython3",
   "version": "3.8.3"
  }
 },
 "nbformat": 4,
 "nbformat_minor": 4
}
