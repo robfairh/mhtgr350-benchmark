{
 "cells": [
  {
   "cell_type": "code",
   "execution_count": 1,
   "metadata": {},
   "outputs": [],
   "source": [
    "import numpy as np"
   ]
  },
  {
   "cell_type": "markdown",
   "metadata": {},
   "source": [
    "## Incompressible flow:\n",
    "\n",
    "$\\frac{dp}{dz} + \\frac{1}{2} \\rho v^2 f \\frac{P_f}{A} = 0$ (3.81 [1])\n",
    "\n",
    "$\\Delta p = \\frac{1}{2} \\rho v^2 f \\frac{P_f L}{A}$ (3.82 [1])\n",
    "\n",
    "Reordering:\n",
    "\n",
    "$\\Delta p = \\frac{1}{\\rho} \\left( \\frac{\\dot{m}}{A} \\right)^2 f \\frac{2 L}{D_h}$ (3.82 [1])"
   ]
  },
  {
   "cell_type": "code",
   "execution_count": 2,
   "metadata": {},
   "outputs": [
    {
     "name": "stdout",
     "output_type": "stream",
     "text": [
      "dp:  703.3475691194249\n",
      "dp:  703.3323166637149\n",
      "dp:  703.3351740747352\n",
      "dp:  703.3354503368706\n",
      "dp:  703.3354745058261\n",
      "5\n",
      "mi:  [0.0125151  0.02279323 0.02279323 0.02279323 0.02279323 0.02279323\n",
      " 0.02279323 0.02279323 0.02279323 0.02279323 0.02279323 0.02279323\n",
      " 0.02279323]\n",
      "mt:  0.2\n"
     ]
    }
   ],
   "source": [
    "# No gap\n",
    "L = 793  # cm\n",
    "Dhi = 1.588 * np.ones(13)\n",
    "Dhi[0] = 1.270\n",
    "Ci = np.array([0.5, 0.5, 0.5, 0.5, 0.5, 0.5, 1, 1, 1, 0.5, 1, 1, 0.5])\n",
    "Ai = np.pi * (Dhi/2)**2\n",
    "# print(Ai)\n",
    "rho = 4.3679e-6  # kg/cm3\n",
    "mu = 3.8236e-5  # Pa.s = kg/m/s\n",
    "mu /= 1e2  # kg/cm/s\n",
    "eps = 10e-6  # m\n",
    "eps *= 1e2  # cm\n",
    "mT = 0.2  # kg/s\n",
    "\n",
    "mi = mT * Ai/sum(Ai*Ci)  # initial guess\n",
    "# print(mi)\n",
    "dp_ant = 0\n",
    "converge = False\n",
    "k = 0\n",
    "while converge == False and k < 20:\n",
    "    Re = mi/Ai * Dhi/mu  # mi[kg/s], Ai[cm2], Dh[cm], mu[kg/cm/s]\n",
    "    # print('Re: ', Re)\n",
    "    # Eq 3.9 [2]: Churchill\n",
    "    A = (-2.457 * np.log((7/Re)**0.9+0.27*eps/Dhi))**16\n",
    "    # print('A: ', A)\n",
    "    B = (37530/Re)**16\n",
    "    # print('B: ', B)\n",
    "    fi = 8*( (8/Re)**12 + 1/(A+B)**1.5 )**(1/12)\n",
    "    # fi = 0.184/Re**0.2\n",
    "    # print('fi: ', fi)\n",
    "    # dp [1e-2 Pa]\n",
    "    Bi = 1/rho/Ai**2*fi*2/Dhi*L\n",
    "    # print('Bi: ', Bi)\n",
    "    sqrtdp = mT/(sum(Ci/np.sqrt(Bi)))\n",
    "    dp = sqrtdp**2\n",
    "    print('dp: ', dp)\n",
    "    if np.abs(dp-dp_ant) < 1e-4:\n",
    "        converge = True\n",
    "    mi = sqrtdp/np.sqrt(Bi)\n",
    "    k += 1\n",
    "    dp_ant = dp\n",
    "\n",
    "print(k)\n",
    "print('mi: ', mi)\n",
    "print('mt: ', sum(Ci*mi))"
   ]
  },
  {
   "cell_type": "code",
   "execution_count": 7,
   "metadata": {},
   "outputs": [
    {
     "name": "stdout",
     "output_type": "stream",
     "text": [
      "dp:  649.6203524429102\n",
      "dp:  649.0607525692044\n",
      "dp:  649.162759504294\n",
      "dp:  649.1756990681671\n",
      "dp:  649.1771864647776\n",
      "dp:  649.1773559142755\n",
      "dp:  649.1773752135182\n",
      "7\n",
      "mi:  [0.01197744 0.02182075 0.02182075 0.02182075 0.02182075 0.02182075\n",
      " 0.02182075 0.02182075 0.02182075 0.02182075 0.02182075 0.02182075\n",
      " 0.02182075 0.01706984]\n",
      "mt:  0.2\n"
     ]
    }
   ],
   "source": [
    "# With gap\n",
    "L = 793  # cm\n",
    "Dhi = 1.588 * np.ones(14)\n",
    "Dhi[0] = 1.270\n",
    "Ci = np.array([0.5, 0.5, 0.5, 0.5, 0.5, 0.5, 1, 1, 1, 0.5, 1, 1, 0.5, 0.5])\n",
    "Ai = np.pi * (Dhi/2)**2\n",
    "\n",
    "bg = 0.3  # gap [cm]\n",
    "f = 18 * np.tan(np.pi/6)  # [cm]\n",
    "Ai[-1] = f * bg + 0.5 * bg * bg * np.tan(np.pi/6)\n",
    "Ph = 2 * f + bg * np.tan(np.pi/6) + bg + bg/np.cos(np.pi/6)\n",
    "Dhi[-1] = 4 * Ai[-1]/Ph\n",
    "\n",
    "rho = 4.3679e-6  # kg/cm3\n",
    "mu = 3.8236e-5  # Pa.s = kg/m/s\n",
    "mu /= 1e2  # kg/cm/s\n",
    "eps = 10e-6  # m\n",
    "eps *= 1e2  # cm\n",
    "mT = 0.2  # kg/s\n",
    "\n",
    "mi = mT * Ai/sum(Ai*Ci)  # initial guess\n",
    "# print(mi)\n",
    "dp_ant = 0\n",
    "converge = False\n",
    "k = 0\n",
    "while converge == False and k < 20:\n",
    "    Re = mi/Ai * Dhi/mu  # mi[kg/s], Ai[cm2], Dh[cm], mu[kg/cm/s]\n",
    "    # print('Re: ', Re)\n",
    "    # Eq 3.9 [2]: Churchill\n",
    "    A = (-2.457 * np.log((7/Re)**0.9+0.27*eps/Dhi))**16\n",
    "    # print('A: ', A)\n",
    "    B = (37530/Re)**16\n",
    "    # print('B: ', B)\n",
    "    fi = 8*( (8/Re)**12 + 1/(A+B)**1.5 )**(1/12)\n",
    "    # fi = 0.184/Re**0.2\n",
    "    # fi = 0.001375*(1+(20e3*eps/Dhi+1e6/Re)**(1/3))\n",
    "    # print('fi: ', fi)\n",
    "    # dp [1e-2 Pa]\n",
    "    Bi = 1/rho/Ai**2*fi*2/Dhi*L\n",
    "    # print('Bi: ', Bi)\n",
    "    sqrtdp = mT/(sum(Ci/np.sqrt(Bi)))\n",
    "    dp = sqrtdp**2\n",
    "    print('dp: ', dp)\n",
    "    if np.abs(dp-dp_ant) < 1e-4:\n",
    "        converge = True\n",
    "    mi = sqrtdp/np.sqrt(Bi)\n",
    "    k += 1\n",
    "    dp_ant = dp\n",
    "\n",
    "print(k)\n",
    "print('mi: ', mi)\n",
    "print('mt: ', sum(Ci*mi))"
   ]
  },
  {
   "cell_type": "markdown",
   "metadata": {},
   "source": [
    "## Compressible flow\n",
    "\n",
    "$\\Delta P = \\frac{\\dot{m}^2}{2 \\rho A^2} \\left[ \\frac{4 f L (T_i+T_o)}{2 D T_i} + \\frac{T_o-T_i}{T_i} \\right]$\n"
   ]
  },
  {
   "cell_type": "code",
   "execution_count": 4,
   "metadata": {},
   "outputs": [
    {
     "name": "stdout",
     "output_type": "stream",
     "text": [
      "dp:  1043.7164916242752\n",
      "dp:  1043.6902965283934\n",
      "dp:  1043.6952758637426\n",
      "dp:  1043.6957529604836\n",
      "dp:  1043.6957944090034\n",
      "5\n",
      "mi:  [0.0123536  0.02269039 0.02275818 0.02278741 0.02288291 0.02266937\n",
      " 0.02274228 0.02277854 0.02278741 0.0227812  0.02282476 0.02295053\n",
      " 0.02290989]\n",
      "mt:  0.2\n"
     ]
    }
   ],
   "source": [
    "# No gap\n",
    "L = 793  # cm\n",
    "Dhi = 1.588 * np.ones(13)\n",
    "Dhi[0] = 1.270\n",
    "Ci = np.array([0.5, 0.5, 0.5, 0.5, 0.5, 0.5, 1, 1, 1, 0.5, 1, 1, 0.5])\n",
    "Ai = np.pi * (Dhi/2)**2\n",
    "# print(Ai)\n",
    "rho = 4.3679e-6  # kg/cm3\n",
    "mu = 3.8236e-5  # Pa.s = kg/m/s\n",
    "mu /= 1e2  # kg/cm/s\n",
    "eps = 10e-6  # m\n",
    "eps *= 1e2  # cm\n",
    "mT = 0.2  # kg/s\n",
    "Ti = 490  # C\n",
    "# To = 950 * np.ones(13)\n",
    "To = np.array([983.5, 956.3, 948.6, 945.3, 934.6, 958.7, 950.4, 946.3, 945.3, 946, 941.1, 927.1, 931.6])\n",
    "\n",
    "mi = mT * Ai/sum(Ai*Ci)  # initial guess\n",
    "# print(mi)\n",
    "dp_ant = 0\n",
    "converge = False\n",
    "k = 0\n",
    "while converge == False and k < 20:\n",
    "    Re = mi/Ai * Dhi/mu  # mi[kg/s], Ai[cm2], Dh[cm], mu[kg/cm/s]\n",
    "    # Eq 3.9 [2]: Churchill\n",
    "    A = (-2.457 * np.log((7/Re)**0.9+0.27*eps/Dhi))**16\n",
    "    B = (37530/Re)**16\n",
    "    fi = 8*( (8/Re)**12 + 1/(A+B)**1.5 )**(1/12)\n",
    "    # fi = 0.184/Re**0.2\n",
    "\n",
    "    Bi = 1/2/rho/Ai**2*(2*fi*L*(Ti+To)/Dhi/Ti + (To-Ti)/Ti)\n",
    "    sqrtdp = mT/(sum(Ci/np.sqrt(Bi)))\n",
    "    # dp [1e-2 Pa]\n",
    "    dp = sqrtdp**2\n",
    "    print('dp: ', dp)\n",
    "    if np.abs(dp-dp_ant) < 1e-4:\n",
    "        converge = True\n",
    "    mi = sqrtdp/np.sqrt(Bi)\n",
    "    k += 1\n",
    "    dp_ant = dp\n",
    "\n",
    "print(k)\n",
    "print('mi: ', mi)\n",
    "print('mt: ', sum(Ci*mi))"
   ]
  },
  {
   "cell_type": "code",
   "execution_count": 9,
   "metadata": {},
   "outputs": [
    {
     "name": "stdout",
     "output_type": "stream",
     "text": [
      "dp:  947.805839165395\n",
      "dp:  947.077999488487\n",
      "dp:  947.2276053355848\n",
      "dp:  947.2462627102074\n",
      "dp:  947.2483816045293\n",
      "dp:  947.2486203583757\n",
      "dp:  947.2486472678265\n",
      "7\n",
      "mi:  [0.01163018 0.02139412 0.02154945 0.02178619 0.02225131 0.02136111\n",
      " 0.0214877  0.02166733 0.02196064 0.02163744 0.0218943  0.02236117\n",
      " 0.02226797 0.01737994]\n",
      "mt:  0.19999999999999998\n"
     ]
    }
   ],
   "source": [
    "# With gap\n",
    "L = 793  # cm\n",
    "Dhi = 1.588 * np.ones(14)\n",
    "Dhi[0] = 1.270\n",
    "Ci = np.array([0.5, 0.5, 0.5, 0.5, 0.5, 0.5, 1, 1, 1, 0.5, 1, 1, 0.5, 0.5])\n",
    "Ai = np.pi * (Dhi/2)**2\n",
    "\n",
    "bg = 0.3  # gap [cm]\n",
    "f = 18 * np.tan(np.pi/6)  # [cm]\n",
    "Ai[-1] = f * bg + 0.5 * bg * bg * np.tan(np.pi/6)\n",
    "Ph = 2 * f + bg * np.tan(np.pi/6) + bg + bg/np.cos(np.pi/6)\n",
    "Dhi[-1] = 4 * Ai[-1]/Ph\n",
    "\n",
    "rho = 4.3679e-6  # kg/cm3\n",
    "mu = 3.8236e-5  # Pa.s = kg/m/s\n",
    "mu /= 1e2  # kg/cm/s\n",
    "eps = 10e-6  # m\n",
    "eps *= 1e2  # cm\n",
    "mT = 0.2  # kg/s\n",
    "\n",
    "Ti = 490  # C\n",
    "To = np.array([1002.66, 972.18, 953.4, 925.5, 873.1, 976.22, 960.82, 939.4, 905.48, 942.93, 913.04, 861.17, 871.28, 890.95])\n",
    "\n",
    "mi = mT * Ai/sum(Ai*Ci)  # initial guess\n",
    "# print(mi)\n",
    "dp_ant = 0\n",
    "converge = False\n",
    "k = 0\n",
    "while converge == False and k < 20:\n",
    "    Re = mi/Ai * Dhi/mu  # mi[kg/s], Ai[cm2], Dh[cm], mu[kg/cm/s]\n",
    "    # print('Re: ', Re)\n",
    "    # Eq 3.9 [2]: Churchill\n",
    "    A = (-2.457 * np.log((7/Re)**0.9+0.27*eps/Dhi))**16\n",
    "    # print('A: ', A)\n",
    "    B = (37530/Re)**16\n",
    "    # print('B: ', B)\n",
    "    fi = 8*( (8/Re)**12 + 1/(A+B)**1.5 )**(1/12)\n",
    "    Bi = 1/2/rho/Ai**2*(2*fi*L*(Ti+To)/Dhi/Ti + (To-Ti)/Ti)\n",
    "    # print('Bi: ', Bi)\n",
    "    sqrtdp = mT/(sum(Ci/np.sqrt(Bi)))\n",
    "    dp = sqrtdp**2\n",
    "    print('dp: ', dp)\n",
    "    if np.abs(dp-dp_ant) < 1e-4:\n",
    "        converge = True\n",
    "    mi = sqrtdp/np.sqrt(Bi)\n",
    "    k += 1\n",
    "    dp_ant = dp\n",
    "\n",
    "print(k)\n",
    "print('mi: ', mi)\n",
    "print('mt: ', sum(Ci*mi))"
   ]
  },
  {
   "cell_type": "markdown",
   "metadata": {},
   "source": [
    "## References:\n",
    "\n",
    "* [1] Thermal and flow design of Helium-cooled reactors. 1984.\n",
    "* [2] Huning. A STEADY STATE THERMAL HYDRAULIC ANALYSIS METHOD FOR PRISMATIC GAS REACTORS. 2014.\n",
    "* [] Tak et al. A practical method for whole-core thermal analysis of a prismatic gas-cooled reactor. 2012."
   ]
  },
  {
   "cell_type": "markdown",
   "metadata": {},
   "source": [
    "# NS"
   ]
  },
  {
   "cell_type": "code",
   "execution_count": 5,
   "metadata": {},
   "outputs": [
    {
     "name": "stdout",
     "output_type": "stream",
     "text": [
      "2.5\n",
      "1.6666666666666667\n"
     ]
    }
   ],
   "source": [
    "# NS00\n",
    "L = 5\n",
    "dy = 1\n",
    "mu = 1\n",
    "dP = -100\n",
    "\n",
    "u_max = 1/2/mu*dP/L*dy/2*(dy/2-1)\n",
    "print(u_max)\n",
    "\n",
    "rho = 1\n",
    "A1 = - 4*u_max / dy**2\n",
    "m1 = -rho * A1 * dy**3/6\n",
    "print(m1)"
   ]
  },
  {
   "cell_type": "code",
   "execution_count": 7,
   "metadata": {},
   "outputs": [
    {
     "name": "stdout",
     "output_type": "stream",
     "text": [
      "5.826666666666667\n",
      "2.9133800000000005\n",
      "1.9999679638998915\n"
     ]
    }
   ],
   "source": [
    "# NS02\n",
    "rho = 1\n",
    "dy1 = 4\n",
    "dy2 = 1.27\n",
    "vm1 = 2.185\n",
    "vm2 = 3.441\n",
    "\n",
    "A1 = - 4*vm1 / dy1**2\n",
    "A2 = - 4*vm2 / dy2**2\n",
    "\n",
    "m1 = -rho * A1 * dy1**3/6\n",
    "m2 = -rho * A2 * dy2**3/6\n",
    "print(m1)\n",
    "print(m2)\n",
    "print(m1/m2)"
   ]
  },
  {
   "cell_type": "code",
   "execution_count": 2,
   "metadata": {
    "scrolled": true
   },
   "outputs": [
    {
     "data": {
      "text/plain": [
       "5.0"
      ]
     },
     "execution_count": 2,
     "metadata": {},
     "output_type": "execute_result"
    }
   ],
   "source": [
    "# NS04\n"
   ]
  },
  {
   "cell_type": "code",
   "execution_count": 1,
   "metadata": {},
   "outputs": [
    {
     "data": {
      "text/plain": [
       "2865.2441676778312"
      ]
     },
     "execution_count": 1,
     "metadata": {},
     "output_type": "execute_result"
    }
   ],
   "source": [
    "# NS06\n",
    "0.0125151/4.3679e-6"
   ]
  },
  {
   "cell_type": "code",
   "execution_count": 2,
   "metadata": {},
   "outputs": [
    {
     "data": {
      "text/plain": [
       "366.2292413606996"
      ]
     },
     "execution_count": 2,
     "metadata": {},
     "output_type": "execute_result"
    }
   ],
   "source": [
    "m = 0.2  # kg/s\n",
    "rho = 4.3679e-6  # kg/cm3\n",
    "P = 18\n",
    "F = P/np.cos(np.cos(np.pi/6))\n",
    "A = F/2 * P/2\n",
    "v = m/rho/A\n",
    "v"
   ]
  },
  {
   "cell_type": "code",
   "execution_count": 12,
   "metadata": {},
   "outputs": [
    {
     "data": {
      "text/plain": [
       "283.365636277369"
      ]
     },
     "execution_count": 12,
     "metadata": {},
     "output_type": "execute_result"
    }
   ],
   "source": [
    "P = 11\n",
    "F = P/np.cos(np.cos(np.pi/6))\n",
    "A = F/2 * P/2\n",
    "\n",
    "2865*np.pi*0.7**2*3/A"
   ]
  },
  {
   "cell_type": "code",
   "execution_count": 11,
   "metadata": {},
   "outputs": [
    {
     "data": {
      "text/plain": [
       "264.562052388593"
      ]
     },
     "execution_count": 11,
     "metadata": {},
     "output_type": "execute_result"
    }
   ],
   "source": [
    "P = 18\n",
    "F = P/np.cos(np.cos(np.pi/6))\n",
    "A = F/2 * P/2\n",
    "\n",
    "2865*np.pi*0.7**2*7.5/A"
   ]
  },
  {
   "cell_type": "code",
   "execution_count": null,
   "metadata": {},
   "outputs": [],
   "source": []
  }
 ],
 "metadata": {
  "kernelspec": {
   "display_name": "Python 3",
   "language": "python",
   "name": "python3"
  },
  "language_info": {
   "codemirror_mode": {
    "name": "ipython",
    "version": 3
   },
   "file_extension": ".py",
   "mimetype": "text/x-python",
   "name": "python",
   "nbconvert_exporter": "python",
   "pygments_lexer": "ipython3",
   "version": "3.8.3"
  }
 },
 "nbformat": 4,
 "nbformat_minor": 4
}
