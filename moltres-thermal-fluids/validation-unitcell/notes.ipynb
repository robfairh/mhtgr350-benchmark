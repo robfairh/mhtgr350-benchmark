{
 "cells": [
  {
   "cell_type": "code",
   "execution_count": 1,
   "metadata": {},
   "outputs": [],
   "source": [
    "import numpy as np\n",
    "import matplotlib.pyplot as plt"
   ]
  },
  {
   "cell_type": "markdown",
   "metadata": {},
   "source": [
    "# Validation: unit-cell: In et al 2006\n",
    "\n",
    "In et al. Three-dimensional analysis of the hot-spot fuel temperature in pebble bed and prismatic modular reactors. 2006."
   ]
  },
  {
   "cell_type": "code",
   "execution_count": 2,
   "metadata": {},
   "outputs": [
    {
     "name": "stdout",
     "output_type": "stream",
     "text": [
      "v:  1794.3269863206274 cm/s\n"
     ]
    }
   ],
   "source": [
    "# Geometry\n",
    "rf = 1.27/2 - 0.0125 # cm\n",
    "rg = 1.27/2  # cm\n",
    "rc = 1.59/2  # cm\n",
    "rg2 = rc + 0.01\n",
    "L = 793  # cm\n",
    "\n",
    "# flow\n",
    "rho = 4.94  # [kg/m3] 70 bar, 400 C\n",
    "rho /= 1e6   # [kg/cm3]\n",
    "\n",
    "cp = 5.188  # [J/g/K] 70 MPa, 400 C\n",
    "cp *= 1e3  # [J/kg/K]\n",
    "\n",
    "rc = 1.59/2  # cm\n",
    "mlc = 0.0176  # kg/s\n",
    "v = mlc/rho/np.pi/rc**2\n",
    "print('v: ', v, 'cm/s')"
   ]
  },
  {
   "cell_type": "code",
   "execution_count": 3,
   "metadata": {},
   "outputs": [
    {
     "name": "stdout",
     "output_type": "stream",
     "text": [
      "kgc:  [0.00163714 0.00182501]\n"
     ]
    },
    {
     "data": {
      "text/plain": [
       "0.0017310788664689318"
      ]
     },
     "execution_count": 3,
     "metadata": {},
     "output_type": "execute_result"
    }
   ],
   "source": [
    "# Calculates film thermal conductivity\n",
    "# Material properties: values from tak et al 2008\n",
    "\n",
    "# Fuel\n",
    "# T = 400, 1600\n",
    "kf = np.array([6., 11.])  # [W/m/K]\n",
    "kf *= 1e-2  # [W/cm/K]\n",
    "\n",
    "# Gap\n",
    "# T = 400, 1600\n",
    "kg = 1e-2*np.array([27.5, 60])  # [W/m/K]\n",
    "kg *= 1e-2  # [W/cm/K]\n",
    "\n",
    "# Graphite\n",
    "# T = 400, 530, 1380, 1600\n",
    "km = np.array([29., 29., 42., 42.])  # [W/m/K]\n",
    "km *= 1e-2 # [W/cm/K]\n",
    "\n",
    "# Film\n",
    "rho = 4.94  # [kg/m3] 70 bar 400 C\n",
    "cp = 5.188  # [J/g/K] 70 bar 400 C [2]\n",
    "cp *= 1e3  # [J/kg/K]\n",
    "mu = 1e-6*np.array([35.03, 60.8])  # Pa.s 70 bar 400 C\n",
    "v = 1794.33  # cm/s\n",
    "v /= 100  # m/s\n",
    "rc = 1.59/2  # cm\n",
    "D = 2 * rc / 100  # m\n",
    "Re = rho * v * D / mu\n",
    "# print('Re: ', Re)\n",
    "\n",
    "# T = 400, 1200\n",
    "mu = 1e-6*np.array([35.03, 60.8])  # Pa.s\n",
    "kg = 1e-2*np.array([27.5, 47.6])  # [W/m/K]\n",
    "Pr = mu * cp/kg\n",
    "# print('Pr: ', Pr)\n",
    "\n",
    "Nu = 0.023*(Re**0.8)*(Pr**0.4)\n",
    "# print('Nu: ', Nu)\n",
    "h = Nu/D * kg  # W/m^2/K\n",
    "# print('h: ', h)\n",
    "\n",
    "rc = 1.59/2  # cm\n",
    "dr = 0.01  # cm\n",
    "\n",
    "h /= 1e4  # W/cm^2/K\n",
    "kgc = h * (rc + dr) * np.log(1 + dr/rc)\n",
    "print('kgc: ', kgc)  # W/cm/C\n",
    "\n",
    "sum(kgc)/len(kgc)"
   ]
  },
  {
   "cell_type": "code",
   "execution_count": 8,
   "metadata": {},
   "outputs": [
    {
     "data": {
      "image/png": "[encoded data removed]",
      "text/plain": [
       "<Figure size 432x288 with 1 Axes>"
      ]
     },
     "metadata": {
      "needs_background": "light"
     },
     "output_type": "display_data"
    }
   ],
   "source": [
    "# Makes material properties plot\n",
    "T = np.linspace(400, 1600, 13)\n",
    "\n",
    "Tf = np.array([400, 1600])\n",
    "kf = np.array([6., 11.])  # [W/m/K]\n",
    "kf *= 1e-2  # [W/cm/K]\n",
    "kfl = np.interp(T, Tf, kf)\n",
    "\n",
    "Tg = np.array([400, 1600])\n",
    "kg = 1e-2*np.array([27.5, 60])  # [W/m/K]\n",
    "# kg *= 1e-2  # [W/cm/K]\n",
    "kgl = np.interp(T, Tg, kg)\n",
    "\n",
    "Tm = np.array([400, 530, 1380, 1600])\n",
    "km = np.array([29., 29., 42., 42.])  # [W/m/K]\n",
    "km *= 1e-2 # [W/cm/K]\n",
    "kml = np.interp(T, Tm, km)\n",
    "\n",
    "plt.figure()\n",
    "plt.plot(T, kfl, label='Fuel compact')\n",
    "plt.plot(T, kgl, label=r'x10$^2$ Helium gap')\n",
    "plt.plot(T, kml, label='Moderator')\n",
    "# plt.legend(loc='upper left', fontsize=14)\n",
    "plt.legend(loc=\"upper left\", bbox_to_anchor=(1., 1.), fancybox=True, fontsize=14)\n",
    "\n",
    "plt.xticks(fontsize=14)\n",
    "plt.yticks(fontsize=14)\n",
    "plt.ylabel('Thermal conductivity [W/cm/K]', fontsize=14)\n",
    "plt.xlabel('Temperature [$^{\\circ}$C]', fontsize=14)\n",
    "plt.savefig(\"val-unit-matprop\", dpi=300, facecolor='w', bbox_inches=\"tight\", transparent=False)"
   ]
  },
  {
   "cell_type": "code",
   "execution_count": null,
   "metadata": {},
   "outputs": [],
   "source": []
  }
 ],
 "metadata": {
  "kernelspec": {
   "display_name": "Python 3",
   "language": "python",
   "name": "python3"
  },
  "language_info": {
   "codemirror_mode": {
    "name": "ipython",
    "version": 3
   },
   "file_extension": ".py",
   "mimetype": "text/x-python",
   "name": "python",
   "nbconvert_exporter": "python",
   "pygments_lexer": "ipython3",
   "version": "3.8.3"
  }
 },
 "nbformat": 4,
 "nbformat_minor": 4
}
