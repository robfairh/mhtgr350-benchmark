{
 "cells": [
  {
   "cell_type": "markdown",
   "metadata": {},
   "source": [
    "$\\Delta P = P_i - P_o = \\frac{\\dot{m}^2}{2 \\rho_i A^2} \\left[ K_v + K_i + \\frac{4fL}{D}\\left( \\frac{\\bar{T}}{T_i} \\right) + \\frac{T_o-T_i}{T_i} + \\sum_j K_j \\left( \\frac{T_j}{T_i} \\right) + K_o \\left( \\frac{T_o}{T_i} \\right) \\right]$\n",
    "\n",
    "* $K_v$: loss coefficient due to flow control valve\n",
    "* $f$: friction factor\n",
    "* $T_j$: coolant temperature at the bottom of block $j$\n",
    "* $\\bar{T} = (T_i+T_o)/2 $\n",
    "* $K_i$: entrance pressure drop coefficient\n",
    "* $K_j$: offset loss coefficient at element interfaces\n",
    "* $K_o$: exit pressure drop coefficient"
   ]
  },
  {
   "cell_type": "code",
   "execution_count": null,
   "metadata": {},
   "outputs": [],
   "source": []
  }
 ],
 "metadata": {
  "kernelspec": {
   "display_name": "Python 3",
   "language": "python",
   "name": "python3"
  },
  "language_info": {
   "codemirror_mode": {
    "name": "ipython",
    "version": 3
   },
   "file_extension": ".py",
   "mimetype": "text/x-python",
   "name": "python",
   "nbconvert_exporter": "python",
   "pygments_lexer": "ipython3",
   "version": "3.7.6"
  }
 },
 "nbformat": 4,
 "nbformat_minor": 4
}
