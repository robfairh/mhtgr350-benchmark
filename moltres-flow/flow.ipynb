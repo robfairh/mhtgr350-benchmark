{
 "cells": [
  {
   "cell_type": "code",
   "execution_count": 1,
   "metadata": {},
   "outputs": [],
   "source": [
    "import numpy as np\n",
    "pi = np.pi"
   ]
  },
  {
   "cell_type": "markdown",
   "metadata": {},
   "source": [
    "# 1D Navier Stokes\n",
    "\n",
    "Assumptions:\n",
    "* steady-state: $\\partial/\\partial t = 0$\n",
    "* $A(z) = A = constant$\n",
    "* $q''' = 0$\n",
    "* $g = 0$\n",
    "* $\\tau = \\frac{1}{2} f \\rho v^2$\n",
    "\n",
    "Equations:\n",
    "* Eq 1) $\\frac{\\partial}{\\partial z}(\\rho u) = 0$\n",
    "* Eq 2) $\\frac{\\partial}{\\partial z}(\\rho u^2 + p) + \\frac{\\epsilon}{2A}f \\rho v^2 = 0$\n",
    "* Eq 3) $\\frac{\\partial}{\\partial z}(\\rho u c_p T) = q'' \\epsilon$\n",
    "* Eq 4) $p = \\rho R T$\n",
    "\n",
    "Constants:\n",
    "* $C1 = \\frac{\\epsilon}{A} = \\frac{4}{D}$\n",
    "* $C2 = \\frac{\\epsilon}{2A} f = 0.5 \\times \\frac{4}{D} \\times f$"
   ]
  },
  {
   "cell_type": "code",
   "execution_count": 30,
   "metadata": {},
   "outputs": [
    {
     "name": "stdout",
     "output_type": "stream",
     "text": [
      "Re:  48217.60177824268\n",
      "f:  0.023192083056130026\n",
      "C1:  2.5188916876574305\n",
      "C2:  0.02920917261477333\n"
     ]
    }
   ],
   "source": [
    "rhoi = 4.37 # kg/m3 [3]\n",
    "v = 26.57 # m/s\n",
    "mu = 38.24e-6 # Pa s [3]\n",
    "D = 1.588/100 # m\n",
    "Re = rhoi*v*D/mu\n",
    "print('Re: ', Re)\n",
    "\n",
    "e = 10e-6 # m [4]\n",
    "A = (2.457 * np.log(1/((7/Re)**0.9+0.27*e/D)))**16\n",
    "B = (37530/Re)**16\n",
    "f = 8*((8/Re)**12+1/(A+B)**1.5)**(1/12)\n",
    "print('f: ', f)\n",
    "# moody chart gives around 0.021 for Re = 5e4, e/d = 5e-6\n",
    "\n",
    "R = 8.3145 #J/mol/K\n",
    "A = 4.002602 # g/mol\n",
    "R = R/A*1e3 # J/kg/K\n",
    "# 2076.9 according to [2] \n",
    "\n",
    "cp = 5.188 # kg/m3 [3]\n",
    "\n",
    "D *= 100 # cm\n",
    "C1 = 4/D\n",
    "C2 = 0.5 * 4/D * f\n",
    "print('C1: ', C1)\n",
    "print('C2: ', C2)"
   ]
  },
  {
   "cell_type": "code",
   "execution_count": 33,
   "metadata": {},
   "outputs": [
    {
     "name": "stdout",
     "output_type": "stream",
     "text": [
      "Heat that goes into the coolant channel 56022.40896358543 W\n",
      "22.24375477000638 W/cm2\n",
      "qd:  56.02960899245939 W/cm3\n"
     ]
    }
   ],
   "source": [
    "rlc = 0.794\n",
    "Ti = 490  # [C]\n",
    "\n",
    "P = 600e6  # [W]\n",
    "nfc = 102  # number of fuel columns\n",
    "\n",
    "# two channels send their heat to a cooling channel\n",
    "Q = P / (nfc * 210 ) * 2\n",
    "print('Heat that goes into the coolant channel', Q, 'W')\n",
    "\n",
    "q = Q / (793 * 2 * pi * rlc) # q'' is constant on y\n",
    "q0 = q * pi/2 # q'' * L = q0 * 2 * L/pi\n",
    "print(q0, 'W/cm2')\n",
    "\n",
    "print('qd: ', q0 * C1, 'W/cm3')"
   ]
  },
  {
   "cell_type": "code",
   "execution_count": 8,
   "metadata": {},
   "outputs": [],
   "source": [
    "Ti = 490 # C\n",
    "rhoi = 4.37 # kg/m3 [3]\n",
    "ui = 26.57 # m/s\n",
    "\n",
    "# p = rho*R*(Ti+273) # Pa\n"
   ]
  },
  {
   "cell_type": "markdown",
   "metadata": {},
   "source": [
    "# fv_euler4"
   ]
  },
  {
   "cell_type": "code",
   "execution_count": 35,
   "metadata": {},
   "outputs": [
    {
     "data": {
      "text/plain": [
       "959.570682410957"
      ]
     },
     "execution_count": 35,
     "metadata": {},
     "output_type": "execute_result"
    }
   ],
   "source": [
    "rho = 4.37e-6 # kg/cm3\n",
    "cp = 5.188e3 # J/kg/K\n",
    "v = 2.657e3 # cm/s\n",
    "L = 793 # cm\n",
    "q = 56.03 # W/cm3\n",
    "\n",
    "Ti = 490\n",
    "To = Ti + q * 2/pi * L / rho / cp / v\n",
    "To"
   ]
  },
  {
   "cell_type": "markdown",
   "metadata": {},
   "source": [
    "# fv_euler8"
   ]
  },
  {
   "cell_type": "code",
   "execution_count": 38,
   "metadata": {},
   "outputs": [
    {
     "data": {
      "text/plain": [
       "4.729568228105906e-06"
      ]
     },
     "execution_count": 38,
     "metadata": {},
     "output_type": "execute_result"
    }
   ],
   "source": [
    "rhoi = 4.37e-6\n",
    "ui = 2.657e3\n",
    "uo = 2.455e3\n",
    "\n",
    "rhoo = rhoi*ui/uo\n",
    "rhoo"
   ]
  },
  {
   "cell_type": "markdown",
   "metadata": {},
   "source": [
    "# fv_euler9"
   ]
  },
  {
   "cell_type": "code",
   "execution_count": 39,
   "metadata": {},
   "outputs": [
    {
     "data": {
      "text/plain": [
       "2077.2737334363997"
      ]
     },
     "execution_count": 39,
     "metadata": {},
     "output_type": "execute_result"
    }
   ],
   "source": [
    "R = 8.3145 #J/mol/K\n",
    "A = 4.002602 # g/mol\n",
    "R = R/A*1e3 # J/kg/K\n",
    "\n",
    "R"
   ]
  },
  {
   "cell_type": "code",
   "execution_count": 41,
   "metadata": {},
   "outputs": [
    {
     "data": {
      "text/plain": [
       "6.9262745821343215"
      ]
     },
     "execution_count": 41,
     "metadata": {},
     "output_type": "execute_result"
    }
   ],
   "source": [
    "4.37e-6*R*(490+273)"
   ]
  },
  {
   "cell_type": "code",
   "execution_count": 45,
   "metadata": {},
   "outputs": [
    {
     "name": "stdout",
     "output_type": "stream",
     "text": [
      "8.671463778939507e-06\n",
      "30.850666129999997\n"
     ]
    }
   ],
   "source": [
    "rhoi = 4.37e-6\n",
    "ui = 2.657e3\n",
    "uo = 1.339e3\n",
    "\n",
    "# 2.455e3\n",
    "# 2.352e3\n",
    "# 2.239e3\n",
    "#0.5 1.757e3\n",
    "#0.6 1.339e3\n",
    "\n",
    "rhoo = rhoi*ui/uo\n",
    "print(rhoo)\n",
    "\n",
    "print(rhoi*ui**2)"
   ]
  },
  {
   "cell_type": "markdown",
   "metadata": {},
   "source": [
    "$\\Delta P = P_i - P_o = \\frac{\\dot{m}^2}{2 \\rho_i A^2} \\left[ K_v + K_i + \\frac{4fL}{D}\\left( \\frac{\\bar{T}}{T_i} \\right) + \\frac{T_o-T_i}{T_i} + \\sum_j K_j \\left( \\frac{T_j}{T_i} \\right) + K_o \\left( \\frac{T_o}{T_i} \\right) \\right]$ [1]\n",
    "\n",
    "* $K_v$: loss coefficient due to flow control valve\n",
    "* $f$: friction factor\n",
    "* $T_j$: coolant temperature at the bottom of block $j$\n",
    "* $\\bar{T} = (T_i+T_o)/2 $\n",
    "* $K_i$: entrance pressure drop coefficient\n",
    "* $K_j$: offset loss coefficient at element interfaces\n",
    "* $K_o$: exit pressure drop coefficient"
   ]
  },
  {
   "cell_type": "markdown",
   "metadata": {},
   "source": [
    "References:\n",
    "* [1](https://digital.library.unt.edu/ark:/67531/metadc1112284/m2/1/high_res_d/6121493.pdf) Melese and Katz. Thermal and Flow Design of Helium Cooled Reactors. 1984.\n",
    "* [2](https://www.ohio.edu/mechanical/thermo/property_tables/gas/idealgas.html)\n",
    "* [3](https://webbook.nist.gov/cgi/fluid.cgi?P=7&TLow=490&THigh=500&TInc=2&Applet=on&Digits=5&ID=C7440597&Action=Load&Type=IsoBar&TUnit=C&PUnit=MPa&DUnit=kg%2Fm3&HUnit=kJ%2Fkg&WUnit=m%2Fs&VisUnit=uPa*s&STUnit=N%2Fm&RefState=DEF)\n",
    "* 4 Huning. A steady state thermal hydraulic analysis method for prismatic gas reactors. 2014.\n"
   ]
  },
  {
   "cell_type": "code",
   "execution_count": null,
   "metadata": {},
   "outputs": [],
   "source": []
  }
 ],
 "metadata": {
  "kernelspec": {
   "display_name": "Python 3",
   "language": "python",
   "name": "python3"
  },
  "language_info": {
   "codemirror_mode": {
    "name": "ipython",
    "version": 3
   },
   "file_extension": ".py",
   "mimetype": "text/x-python",
   "name": "python",
   "nbconvert_exporter": "python",
   "pygments_lexer": "ipython3",
   "version": "3.8.3"
  }
 },
 "nbformat": 4,
 "nbformat_minor": 4
}
