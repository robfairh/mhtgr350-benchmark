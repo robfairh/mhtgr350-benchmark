{
 "cells": [
  {
   "cell_type": "code",
   "execution_count": 2,
   "metadata": {},
   "outputs": [],
   "source": [
    "import numpy as np\n",
    "pi = np.pi"
   ]
  },
  {
   "cell_type": "markdown",
   "metadata": {},
   "source": [
    "# 1D Navier Stokes\n",
    "\n",
    "* Eq 1) $\\frac{\\partial}{\\partial t}(\\rho A) + \\frac{\\partial}{\\partial z}(\\rho u A) = 0$\n",
    "* Eq 2) $\\frac{\\partial}{\\partial t}(\\rho u A) + \\frac{\\partial}{\\partial z}(\\rho u^2 A) = - \\frac{\\partial}{\\partial z}p A - \\tau \\epsilon - \\rho A g sin \\theta$\n",
    "* Eq 3) $\\frac{\\partial}{\\partial t}(\\rho h A) + \\frac{\\partial}{\\partial z}(\\rho u h T) = q'' \\epsilon + \\frac{\\partial}{\\partial t}(p A) + q'''A$\n",
    "\n",
    "From [5] and [1]\n",
    "\n",
    "Assumptions:\n",
    "* steady-state: $\\partial/\\partial t = 0$\n",
    "* $A(z) = A = constant$\n",
    "* $q''' = 0$\n",
    "* $g = 0$\n",
    "* $\\tau = \\frac{1}{2} f \\rho v^2$\n",
    "* $h = c_p T$\n",
    "\n",
    "Equations:\n",
    "* Eq 1) $\\frac{\\partial}{\\partial z}(\\rho u) = 0$\n",
    "* Eq 2) $\\frac{\\partial}{\\partial z}(\\rho u^2 + p) + \\frac{\\epsilon}{2A}f \\rho v^2 = 0$\n",
    "* Eq 3) $\\frac{\\partial}{\\partial z}(\\rho u c_p T) = q'' \\epsilon$\n",
    "* Eq 4) $p = \\rho R T$\n",
    "\n",
    "Constants:\n",
    "* $C1 = \\frac{\\epsilon}{A} = \\frac{4}{D}$\n",
    "* $C2 = \\frac{\\epsilon}{2A} f = 0.5 \\times \\frac{4}{D} \\times f$"
   ]
  },
  {
   "cell_type": "code",
   "execution_count": 3,
   "metadata": {},
   "outputs": [
    {
     "name": "stdout",
     "output_type": "stream",
     "text": [
      "Re:  48217.60177824268\n",
      "f:  0.023192083056130026\n",
      "C1:  2.5188916876574305\n",
      "C2:  0.02920917261477333\n"
     ]
    }
   ],
   "source": [
    "rhoi = 4.37 # kg/m3 [3]\n",
    "v = 26.57 # m/s\n",
    "mu = 38.24e-6 # Pa s [3]\n",
    "D = 1.588/100 # m\n",
    "Re = rhoi*v*D/mu\n",
    "print('Re: ', Re)\n",
    "\n",
    "e = 10e-6 # m [4]\n",
    "A = (2.457 * np.log(1/((7/Re)**0.9+0.27*e/D)))**16\n",
    "B = (37530/Re)**16\n",
    "f = 8*((8/Re)**12+1/(A+B)**1.5)**(1/12)\n",
    "print('f: ', f)\n",
    "# moody chart gives around 0.021 for Re = 5e4, e/d = 5e-6\n",
    "\n",
    "R = 8.3145   #J/mol/K\n",
    "A = 4.002602 # g/mol\n",
    "R = R/A*1e3  # J/kg/K\n",
    "# 2076.9 according to [2] \n",
    "\n",
    "cp = 5.188 # kg/m3 [3]\n",
    "D *= 100   # cm\n",
    "C1 = 4/D\n",
    "C2 = 0.5 * 4/D * f\n",
    "print('C1: ', C1)\n",
    "print('C2: ', C2)"
   ]
  },
  {
   "cell_type": "markdown",
   "metadata": {},
   "source": [
    "# Euler equations\n",
    "\n",
    "* $\\frac{\\partial}{\\partial t}\\rho + \\frac{\\partial}{\\partial x}(m) = 0$\n",
    "* $\\frac{\\partial}{\\partial t}m + \\frac{\\partial}{\\partial x}\\left(\\frac{m^2}{\\rho} + p\\right) = 0$\n",
    "* $\\frac{\\partial}{\\partial t}e + \\frac{\\partial}{\\partial x}\\left(\\frac{m}{\\rho}(e+p)\\right) = 0$\n",
    "* $m = \\rho u$\n",
    "* $e = \\rho E$\n",
    "* $E = i + \\frac{u^2}{2}$\n",
    "* $h = i + \\frac{p}{\\rho}$\n",
    "* $H = h + \\frac{u^2}{2} = E + \\frac{p}{\\rho}$\n",
    "* $p = \\rho R T$\n",
    "* $c_p = \\frac{dh}{dt}$\n",
    "* $p = (\\gamma - 1) \\rho i$"
   ]
  },
  {
   "cell_type": "markdown",
   "metadata": {},
   "source": [
    "# fv_euler\n",
    "\n",
    "* $\\frac{\\partial}{\\partial x}(\\rho u) = 0$\n",
    "* $\\frac{\\partial}{\\partial x}(\\rho u^2) = 0$"
   ]
  },
  {
   "cell_type": "markdown",
   "metadata": {},
   "source": [
    "# fv_euler2\n",
    "\n",
    "* $\\frac{\\partial}{\\partial x}(\\rho u) = 0$\n",
    "* $\\frac{\\partial}{\\partial x}(\\rho u^2) = 0$\n",
    "* $\\frac{\\partial}{\\partial x}(u e) = 0$"
   ]
  },
  {
   "cell_type": "markdown",
   "metadata": {},
   "source": [
    "# fv_euler3\n",
    "\n",
    "* $\\frac{\\partial}{\\partial x}(\\rho u) = 0$\n",
    "* $\\frac{\\partial}{\\partial x}(\\rho u^2 + p) = 0$\n",
    "* $\\frac{\\partial}{\\partial x}(u e + u p) = 0$\n",
    "* $p = 0.01 (\\gamma - 1)(e-\\rho u^2/2)$"
   ]
  },
  {
   "cell_type": "markdown",
   "metadata": {},
   "source": [
    "# fv_euler4\n",
    "\n",
    "* $\\frac{\\partial}{\\partial x}(\\rho c_p u T) = \\frac{q''\\epsilon}{A}$"
   ]
  },
  {
   "cell_type": "code",
   "execution_count": 10,
   "metadata": {},
   "outputs": [
    {
     "name": "stdout",
     "output_type": "stream",
     "text": [
      "Heat that goes into the coolant channel 56022.40896358543 W\n",
      "qd:  56.02960899245939 W/cm3\n"
     ]
    },
    {
     "data": {
      "text/plain": [
       "959.570682410957"
      ]
     },
     "execution_count": 10,
     "metadata": {},
     "output_type": "execute_result"
    }
   ],
   "source": [
    "rlc = 0.794\n",
    "P = 600e6  # [W]\n",
    "nfc = 102  # number of fuel columns\n",
    "\n",
    "# two channels send their heat to a cooling channel\n",
    "Q = P / (nfc * 210 ) * 2\n",
    "print('Heat that goes into the coolant channel', Q, 'W')\n",
    "\n",
    "q = Q / (793 * 2 * pi * rlc) # q'' is constant on y\n",
    "q0 = q * pi/2 # q'' * L = q0 * 2 * L/pi\n",
    "C1 = 4/D\n",
    "print('qd: ', q0 * C1, 'W/cm3')\n",
    "\n",
    "rho = 4.37e-6 # kg/cm3\n",
    "cp = 5.188e3 # J/kg/K\n",
    "v = 2.657e3 # cm/s\n",
    "L = 793 # cm\n",
    "q = 56.03 # W/cm3\n",
    "\n",
    "Ti = 490\n",
    "To = Ti + q * 2/pi * L / rho / cp / v\n",
    "To"
   ]
  },
  {
   "cell_type": "markdown",
   "metadata": {},
   "source": [
    "# fv_euler5\n",
    "\n",
    "* $\\frac{\\partial}{\\partial x}\\rho = 0$\n",
    "* $\\frac{\\partial}{\\partial x}u = 0$\n",
    "* $\\frac{\\partial}{\\partial x}(\\rho c_p u T) = \\frac{q''\\epsilon}{A}$"
   ]
  },
  {
   "cell_type": "markdown",
   "metadata": {},
   "source": [
    "# fv_euler6\n",
    "\n",
    "* $\\frac{\\partial}{\\partial x}(\\rho u) = 0$\n",
    "* $\\frac{\\partial}{\\partial x}u = 0$\n",
    "* $\\frac{\\partial}{\\partial x}(\\rho c_p u T) = \\frac{q''\\epsilon}{A}$"
   ]
  },
  {
   "cell_type": "markdown",
   "metadata": {},
   "source": [
    "# fv_euler7\n",
    "\n",
    "* $\\frac{\\partial}{\\partial x}(\\rho u) = 0$\n",
    "* $\\frac{\\partial}{\\partial x}(\\rho u^2) = 0$\n",
    "* $\\frac{\\partial}{\\partial x}(\\rho c_p u T) = \\frac{q''\\epsilon}{A}$"
   ]
  },
  {
   "cell_type": "markdown",
   "metadata": {},
   "source": [
    "# fv_euler8\n",
    "\n",
    "* $\\frac{\\partial}{\\partial x}(\\rho u) = 0$\n",
    "* $\\frac{\\partial}{\\partial x}(\\rho u^2) + C \\rho v^2 = 0$\n",
    "* $\\frac{\\partial}{\\partial x}(\\rho c_p u T) = \\frac{q''\\epsilon}{A}$"
   ]
  },
  {
   "cell_type": "code",
   "execution_count": null,
   "metadata": {},
   "outputs": [],
   "source": [
    "rhoi = 4.37e-6\n",
    "ui = 2.657e3\n",
    "uo = 2.455e3\n",
    "\n",
    "rhoo = rhoi*ui/uo\n",
    "rhoo"
   ]
  },
  {
   "cell_type": "markdown",
   "metadata": {},
   "source": [
    "# fv_euler9\n",
    "\n",
    "* $\\frac{\\partial}{\\partial x}(\\rho u) = 0$\n",
    "* $\\frac{\\partial}{\\partial x}(\\rho u^2 + A \\rho R T) + B \\rho v^2 = 0$\n",
    "* $\\frac{\\partial}{\\partial x}(\\rho c_p u T) = \\frac{q''\\epsilon}{A}$\n",
    "\n",
    "Need to check that $\\rho u$ is actually constant throughout x, becuase it would seem that the temperature changes.\n",
    "$A$ and $B$ are coefficients to take into account or not those terms.\n",
    "When A increases I would think that the velocity would tend to rise but it is decreasing instead.\n",
    "The last term makes the velocity decrease, which I think makes sense.\n",
    "I could be missing something in the BCs. Now, it is d/dx (\\rho u^2 + p) so it doesn't account for the friciton pressure loss."
   ]
  },
  {
   "cell_type": "code",
   "execution_count": null,
   "metadata": {},
   "outputs": [],
   "source": [
    "R = 8.3145 #J/mol/K\n",
    "A = 4.002602 # g/mol\n",
    "R = R/A*1e3 # J/kg/K\n",
    "\n",
    "R"
   ]
  },
  {
   "cell_type": "markdown",
   "metadata": {},
   "source": [
    "# Other methods\n",
    "\n",
    "* $\\frac{\\partial}{\\partial z}(\\rho u^2) + \\frac{\\partial}{\\partial z}p + \\rho g + \\frac{1}{2} \\rho u^2 \\left(\\frac{f}{D} + K\\right) = 0$\n",
    "* $\\Delta P = \\frac{1}{2} \\rho u^2 \\left(f\\frac{L}{D} + K\\right) + \\rho g H$ \n",
    "\n",
    "This one neglects the fact that $u$ changes along $z$.\n",
    "From [6]\n",
    "\n",
    "* $\\rho_i v_i = \\rho_e v_e$\n",
    "* $\\left( \\frac{P_i}{\\rho_i} + \\frac{v_i^2}{2} + g z_i\\right) - \\left( \\frac{P_e}{\\rho_e} + \\frac{v_e^2}{2} + g z_e \\right) = \\frac{f}{2}\\frac{L}{D}v_{ave}^2$\n",
    "* $Q_{conv} = \\dot{m} c_p (T_e - T_i)$\n",
    "* $ P_e = \\rho_e R T_e$\n",
    "\n",
    "From [4]\n",
    "\n",
    "* $\\Delta P = P_i - P_o = \\frac{\\dot{m}^2}{2 \\rho_i A^2} \\left[ K_v + K_i + \\frac{4fL}{D}\\left( \\frac{\\bar{T}}{T_i} \\right) + \\frac{T_o-T_i}{T_i} + \\sum_j K_j \\left( \\frac{T_j}{T_i} \\right) + K_o \\left( \\frac{T_o}{T_i} \\right) \\right]$ \n",
    "\n",
    "* $K_v$: loss coefficient due to flow control valve\n",
    "* $f$: friction factor\n",
    "* $T_j$: coolant temperature at the bottom of block $j$\n",
    "* $\\bar{T} = (T_i+T_o)/2 $\n",
    "* $K_i$: entrance pressure drop coefficient\n",
    "* $K_j$: offset loss coefficient at element interfaces\n",
    "* $K_o$: exit pressure drop coefficient\n",
    "\n",
    "From [1]"
   ]
  },
  {
   "cell_type": "markdown",
   "metadata": {},
   "source": [
    "References:\n",
    "* [1](https://digital.library.unt.edu/ark:/67531/metadc1112284/m2/1/high_res_d/6121493.pdf) Melese and Katz. Thermal and Flow Design of Helium Cooled Reactors. 1984.\n",
    "* [2](https://www.ohio.edu/mechanical/thermo/property_tables/gas/idealgas.html) thermofluids.net\n",
    "* [3](https://webbook.nist.gov/cgi/fluid.cgi?P=7&TLow=490&THigh=500&TInc=2&Applet=on&Digits=5&ID=C7440597&Action=Load&Type=IsoBar&TUnit=C&PUnit=MPa&DUnit=kg%2Fm3&HUnit=kJ%2Fkg&WUnit=m%2Fs&VisUnit=uPa*s&STUnit=N%2Fm&RefState=DEF) NIST\n",
    "* 4 Huning. A steady state thermal hydraulic analysis method for prismatic gas reactors. 2014.\n",
    "* 5 NPRE 511\n",
    "* 6 Tak et al. A Practical Method for Whole-Core Thermal Analysis of a Prismatic Gas-Cooled Reactor. 2012."
   ]
  }
 ],
 "metadata": {
  "kernelspec": {
   "display_name": "Python 3",
   "language": "python",
   "name": "python3"
  },
  "language_info": {
   "codemirror_mode": {
    "name": "ipython",
    "version": 3
   },
   "file_extension": ".py",
   "mimetype": "text/x-python",
   "name": "python",
   "nbconvert_exporter": "python",
   "pygments_lexer": "ipython3",
   "version": "3.8.3"
  }
 },
 "nbformat": 4,
 "nbformat_minor": 4
}
